{
 "cells": [
  {
   "cell_type": "markdown",
   "id": "c002be63-5a9c-4eb0-ba77-0ab91bb849b4",
   "metadata": {},
   "source": [
    "# REGRESIÓN LOGÍSTICA - DATOS German Credit\n",
    "\n",
    "## Realizado por: Pablo Sánchez Cabrera"
   ]
  },
  {
   "cell_type": "markdown",
   "id": "3295b740-f445-45da-a849-4a7bec50e2e4",
   "metadata": {},
   "source": [
    "# Variables de la base de datos:\n",
    "- checking_status -> Status of existing checking account, in Deutsche Marks (DM)\n",
    "- duration (in months) -> Duration in months     \n",
    "- credit_history -> Credit history (credits taken, paid back duly, delays, critical accounts)\n",
    "- purpose -> Purpose of the credit (car, television, etc.)                 \n",
    "- credit_amount -> Credit loan amount, in Deutsche Marks (DM)        \n",
    "- savings_status -> Status of savings account and bonds, in Deutsche Marks          \n",
    "- employment -> Present employment, in number of years            \n",
    "- installment_commitment -> Installment rate in percentage of disposable income\n",
    "- personal_status -> Personal status (married, single, etc.) and sex\n",
    "- other_parties -> Other debtors and guarantors      \n",
    "- residence_since -> Present residence since X years        \n",
    "- property_magnitude -> Property (e.g., real estate)    \n",
    "- age -> Age in years                     \n",
    "- other_payment_plans -> Other installment plans (banks, stores, etc.)       \n",
    "- housing -> Housing (rent, own, for free)                 \n",
    "- existing_credits -> Number of existing credits at this bank         \n",
    "- job -> Job                     \n",
    "- num_dependents -> Number of people being liable to provide maintenance for          \n",
    "- own_telephone -> Telephone (yes and no)           \n",
    "- foreign_worker -> Foreign worker (yes and no)           \n",
    "- class -> Foreign worker (yes and no)    "
   ]
  },
  {
   "cell_type": "markdown",
   "id": "5c5ee4eb-2288-406b-9036-181639ca456a",
   "metadata": {},
   "source": [
    "Se cargan las librerías:"
   ]
  },
  {
   "cell_type": "code",
   "execution_count": 4,
   "id": "8302d53b-8ae9-46a2-97be-204db9e9b119",
   "metadata": {},
   "outputs": [],
   "source": [
    "import os\n",
    "import numpy as np\n",
    "import pandas as pd\n",
    "import matplotlib.pyplot as plt\n",
    "import seaborn as sns\n",
    "import statsmodels.api as sm\n",
    "import scipy.stats as stats\n",
    "import statsmodels.formula.api as smf  # sintáxis análoga a R\n",
    " \n",
    "from sklearn.metrics import classification_report, confusion_matrix"
   ]
  },
  {
   "cell_type": "markdown",
   "id": "04379924-998b-49f6-8621-6e48abbfdab5",
   "metadata": {},
   "source": [
    "Se cargan los datos:"
   ]
  },
  {
   "cell_type": "code",
   "execution_count": 5,
   "id": "2c8389b3-f8c3-43b8-ab30-3cea820335f7",
   "metadata": {},
   "outputs": [],
   "source": [
    "datos = pd.read_csv(\"../data/credit_g.csv\", sep=\",\")"
   ]
  },
  {
   "cell_type": "markdown",
   "id": "1dc58a49-dffc-4f3f-85f6-47d0229d1ba4",
   "metadata": {},
   "source": [
    "Todas las variables son categóricas salvo:\r",
    "-  duration\n",
    "-  credit_amount\n",
    "-  residence_since\n",
    "-  age\n",
    "-  existing_credits\n",
    "-  num_dependentsts\r\n"
   ]
  },
  {
   "cell_type": "code",
   "execution_count": 6,
   "id": "8cd3804d-85d1-4b9a-8057-9a7abf39546e",
   "metadata": {},
   "outputs": [],
   "source": [
    "lista_num = [\"duration\", \"credit_amount\", \"residence_since\", \"age\", \"existing_credits\", \"num_dependents\"]\n",
    "\n",
    "for col in datos.columns:\n",
    "    if col not in lista_num:\n",
    "        datos[col] = datos[col].astype(\"category\")"
   ]
  },
  {
   "cell_type": "code",
   "execution_count": 7,
   "id": "805322ec-6ddf-4b67-9186-833fe95ea903",
   "metadata": {},
   "outputs": [
    {
     "name": "stdout",
     "output_type": "stream",
     "text": [
      "<class 'pandas.core.frame.DataFrame'>\n",
      "RangeIndex: 1000 entries, 0 to 999\n",
      "Data columns (total 21 columns):\n",
      " #   Column                  Non-Null Count  Dtype   \n",
      "---  ------                  --------------  -----   \n",
      " 0   checking_status         1000 non-null   category\n",
      " 1   duration                1000 non-null   int64   \n",
      " 2   credit_history          1000 non-null   category\n",
      " 3   purpose                 1000 non-null   category\n",
      " 4   credit_amount           1000 non-null   int64   \n",
      " 5   savings_status          1000 non-null   category\n",
      " 6   employment              1000 non-null   category\n",
      " 7   installment_commitment  1000 non-null   category\n",
      " 8   personal_status         1000 non-null   category\n",
      " 9   other_parties           1000 non-null   category\n",
      " 10  residence_since         1000 non-null   int64   \n",
      " 11  property_magnitude      1000 non-null   category\n",
      " 12  age                     1000 non-null   int64   \n",
      " 13  other_payment_plans     1000 non-null   category\n",
      " 14  housing                 1000 non-null   category\n",
      " 15  existing_credits        1000 non-null   int64   \n",
      " 16  job                     1000 non-null   category\n",
      " 17  num_dependents          1000 non-null   int64   \n",
      " 18  own_telephone           1000 non-null   category\n",
      " 19  foreign_worker          1000 non-null   category\n",
      " 20  class                   1000 non-null   category\n",
      "dtypes: category(15), int64(6)\n",
      "memory usage: 64.4 KB\n"
     ]
    }
   ],
   "source": [
    "datos.info() #información sobre los registros y variables"
   ]
  },
  {
   "cell_type": "markdown",
   "id": "94ab1a74-b9d6-4cc7-824d-e2c950b64ee6",
   "metadata": {},
   "source": [
    "Se plantea un descriptivo de las variables numéricas"
   ]
  },
  {
   "cell_type": "code",
   "execution_count": 8,
   "id": "cd948315-8fd2-4281-9681-7800c16a8c8b",
   "metadata": {},
   "outputs": [
    {
     "data": {
      "text/html": [
       "<div>\n",
       "<style scoped>\n",
       "    .dataframe tbody tr th:only-of-type {\n",
       "        vertical-align: middle;\n",
       "    }\n",
       "\n",
       "    .dataframe tbody tr th {\n",
       "        vertical-align: top;\n",
       "    }\n",
       "\n",
       "    .dataframe thead th {\n",
       "        text-align: right;\n",
       "    }\n",
       "</style>\n",
       "<table border=\"1\" class=\"dataframe\">\n",
       "  <thead>\n",
       "    <tr style=\"text-align: right;\">\n",
       "      <th></th>\n",
       "      <th>duration</th>\n",
       "      <th>credit_amount</th>\n",
       "      <th>residence_since</th>\n",
       "      <th>age</th>\n",
       "      <th>existing_credits</th>\n",
       "      <th>num_dependents</th>\n",
       "    </tr>\n",
       "  </thead>\n",
       "  <tbody>\n",
       "    <tr>\n",
       "      <th>count</th>\n",
       "      <td>1000.000000</td>\n",
       "      <td>1000.000000</td>\n",
       "      <td>1000.000000</td>\n",
       "      <td>1000.000000</td>\n",
       "      <td>1000.000000</td>\n",
       "      <td>1000.000000</td>\n",
       "    </tr>\n",
       "    <tr>\n",
       "      <th>mean</th>\n",
       "      <td>20.903000</td>\n",
       "      <td>3271.258000</td>\n",
       "      <td>2.845000</td>\n",
       "      <td>35.546000</td>\n",
       "      <td>1.407000</td>\n",
       "      <td>1.155000</td>\n",
       "    </tr>\n",
       "    <tr>\n",
       "      <th>std</th>\n",
       "      <td>12.058814</td>\n",
       "      <td>2822.736876</td>\n",
       "      <td>1.103718</td>\n",
       "      <td>11.375469</td>\n",
       "      <td>0.577654</td>\n",
       "      <td>0.362086</td>\n",
       "    </tr>\n",
       "    <tr>\n",
       "      <th>min</th>\n",
       "      <td>4.000000</td>\n",
       "      <td>250.000000</td>\n",
       "      <td>1.000000</td>\n",
       "      <td>19.000000</td>\n",
       "      <td>1.000000</td>\n",
       "      <td>1.000000</td>\n",
       "    </tr>\n",
       "    <tr>\n",
       "      <th>25%</th>\n",
       "      <td>12.000000</td>\n",
       "      <td>1365.500000</td>\n",
       "      <td>2.000000</td>\n",
       "      <td>27.000000</td>\n",
       "      <td>1.000000</td>\n",
       "      <td>1.000000</td>\n",
       "    </tr>\n",
       "    <tr>\n",
       "      <th>50%</th>\n",
       "      <td>18.000000</td>\n",
       "      <td>2319.500000</td>\n",
       "      <td>3.000000</td>\n",
       "      <td>33.000000</td>\n",
       "      <td>1.000000</td>\n",
       "      <td>1.000000</td>\n",
       "    </tr>\n",
       "    <tr>\n",
       "      <th>75%</th>\n",
       "      <td>24.000000</td>\n",
       "      <td>3972.250000</td>\n",
       "      <td>4.000000</td>\n",
       "      <td>42.000000</td>\n",
       "      <td>2.000000</td>\n",
       "      <td>1.000000</td>\n",
       "    </tr>\n",
       "    <tr>\n",
       "      <th>max</th>\n",
       "      <td>72.000000</td>\n",
       "      <td>18424.000000</td>\n",
       "      <td>4.000000</td>\n",
       "      <td>75.000000</td>\n",
       "      <td>4.000000</td>\n",
       "      <td>2.000000</td>\n",
       "    </tr>\n",
       "  </tbody>\n",
       "</table>\n",
       "</div>"
      ],
      "text/plain": [
       "          duration  credit_amount  residence_since          age  \\\n",
       "count  1000.000000    1000.000000      1000.000000  1000.000000   \n",
       "mean     20.903000    3271.258000         2.845000    35.546000   \n",
       "std      12.058814    2822.736876         1.103718    11.375469   \n",
       "min       4.000000     250.000000         1.000000    19.000000   \n",
       "25%      12.000000    1365.500000         2.000000    27.000000   \n",
       "50%      18.000000    2319.500000         3.000000    33.000000   \n",
       "75%      24.000000    3972.250000         4.000000    42.000000   \n",
       "max      72.000000   18424.000000         4.000000    75.000000   \n",
       "\n",
       "       existing_credits  num_dependents  \n",
       "count       1000.000000     1000.000000  \n",
       "mean           1.407000        1.155000  \n",
       "std            0.577654        0.362086  \n",
       "min            1.000000        1.000000  \n",
       "25%            1.000000        1.000000  \n",
       "50%            1.000000        1.000000  \n",
       "75%            2.000000        1.000000  \n",
       "max            4.000000        2.000000  "
      ]
     },
     "execution_count": 8,
     "metadata": {},
     "output_type": "execute_result"
    }
   ],
   "source": [
    "datos.describe()"
   ]
  },
  {
   "cell_type": "markdown",
   "id": "6c9f6b3d-a732-4d89-8f9f-691a38163d09",
   "metadata": {},
   "source": [
    "Como la variable `class` es una palabra reservada en Python se reemplaza el nombre de la columna por `target`"
   ]
  },
  {
   "cell_type": "code",
   "execution_count": 9,
   "id": "54cd7ff6-5548-4d45-aabb-9b38e5419c71",
   "metadata": {},
   "outputs": [],
   "source": [
    "# La variable class es una variable reservada en diferentes módulos de Python -> reemplazar por por target\n",
    "datos.rename(columns={'class': 'target'}, inplace=True)"
   ]
  },
  {
   "cell_type": "markdown",
   "id": "dd30136d-cfe7-47e1-a09e-0ae18be56d79",
   "metadata": {},
   "source": [
    "## Análisis Descriptivo"
   ]
  },
  {
   "cell_type": "code",
   "execution_count": 10,
   "id": "91445cbd-9e79-4f93-819b-e7cc790646b3",
   "metadata": {},
   "outputs": [
    {
     "data": {
      "text/html": [
       "<div>\n",
       "<style scoped>\n",
       "    .dataframe tbody tr th:only-of-type {\n",
       "        vertical-align: middle;\n",
       "    }\n",
       "\n",
       "    .dataframe tbody tr th {\n",
       "        vertical-align: top;\n",
       "    }\n",
       "\n",
       "    .dataframe thead th {\n",
       "        text-align: right;\n",
       "    }\n",
       "</style>\n",
       "<table border=\"1\" class=\"dataframe\">\n",
       "  <thead>\n",
       "    <tr style=\"text-align: right;\">\n",
       "      <th>col_0</th>\n",
       "      <th>frecuencia</th>\n",
       "    </tr>\n",
       "    <tr>\n",
       "      <th>target</th>\n",
       "      <th></th>\n",
       "    </tr>\n",
       "  </thead>\n",
       "  <tbody>\n",
       "    <tr>\n",
       "      <th>bad</th>\n",
       "      <td>0.3</td>\n",
       "    </tr>\n",
       "    <tr>\n",
       "      <th>good</th>\n",
       "      <td>0.7</td>\n",
       "    </tr>\n",
       "  </tbody>\n",
       "</table>\n",
       "</div>"
      ],
      "text/plain": [
       "col_0   frecuencia\n",
       "target            \n",
       "bad            0.3\n",
       "good           0.7"
      ]
     },
     "execution_count": 10,
     "metadata": {},
     "output_type": "execute_result"
    }
   ],
   "source": [
    "# Usando pandas de dos formas:\n",
    "pd.crosstab(datos['target'], columns='frecuencia').apply(lambda p: p/p.sum(), axis=0) #tabla cruzada (en porcentaje)"
   ]
  },
  {
   "cell_type": "markdown",
   "id": "d5748761-bfec-44fe-ba43-994399d8b8d1",
   "metadata": {},
   "source": [
    "A la vista de los resultados, se observa que la muestra no está balanceada: menos préstamos impagados"
   ]
  },
  {
   "cell_type": "markdown",
   "id": "5bcefca4-0787-428a-b6ff-6cfe950f9e11",
   "metadata": {},
   "source": [
    "También se puede analizar la distribución de variables numéricas según la clase del target:"
   ]
  },
  {
   "cell_type": "code",
   "execution_count": 11,
   "id": "b300901a-4312-4683-bc3f-9def7091e1a7",
   "metadata": {},
   "outputs": [
    {
     "data": {
      "image/png": "[encoded data removed]",
      "text/plain": [
       "<Figure size 1200x600 with 2 Axes>"
      ]
     },
     "metadata": {},
     "output_type": "display_data"
    }
   ],
   "source": [
    "g=sns.FacetGrid(datos, col='target', height=6) #en función de la calidad del préstamo\n",
    "hist=g.map(plt.hist, 'credit_amount', bins=25, color='blue') #histograma\n",
    "plt.show()"
   ]
  },
  {
   "cell_type": "markdown",
   "id": "d348e13b-0b45-4918-aa87-88b26b4ec183",
   "metadata": {},
   "source": [
    "Puede verse que la mayor parte de préstamos (buenos y malos), son de una cantidad inferior a 2500. Además, se observa que se dan más casos de impago cuanto mayor es la exposición (cantidad del préstamo)"
   ]
  },
  {
   "cell_type": "markdown",
   "id": "07f36ffc-6e8c-4bef-9593-98c3a3aee54a",
   "metadata": {},
   "source": [
    "Podemos también analizar cómo es el comportamiento según el uso del préstamo:"
   ]
  },
  {
   "cell_type": "code",
   "execution_count": 12,
   "id": "e36f29c0-e4cd-4b98-8cb1-0e1f48f112df",
   "metadata": {},
   "outputs": [
    {
     "data": {
      "image/png": "[encoded data removed]",
      "text/plain": [
       "<Figure size 1500x800 with 1 Axes>"
      ]
     },
     "metadata": {},
     "output_type": "display_data"
    }
   ],
   "source": [
    "df=pd.DataFrame(datos.groupby('purpose', observed=False)['credit_amount'].mean()).reset_index() #data.frame media por grupos\n",
    "plt.figure(figsize=(15,8)) #tamaño del gráfico\n",
    "barplot = sns.barplot(x='purpose', y='credit_amount', data=df) \n",
    "barplot.set_xlabel('Utilidad del préstamo', fontsize=15)\n",
    "barplot.set_ylabel('Cantidad', fontsize=15)\n",
    "plt.show()"
   ]
  },
  {
   "cell_type": "markdown",
   "id": "14a5ea40-c3d8-49c5-81d1-a33f6731aebb",
   "metadata": {},
   "source": [
    "El gráfico nos muestra que la compra de un coche (usado) se encuentra en segundo lugar (a la hora de pedir un préstamo).\n",
    "Posiblemente, la mayor parte de la gente que compra un coche nuevo tiene liquidez para financiar su compra.\n",
    "\n"
   ]
  },
  {
   "cell_type": "markdown",
   "id": "8db97e61-c718-47d3-81e6-fec3647ea2b9",
   "metadata": {},
   "source": [
    "Podemos también hacernos algunas preguntas como: **¿Impagan más las mujeres o los hombres?**\n",
    "Para responder a la cuestión, se crea un nuevo df que contiene persona_status y class. A partir de éste se genera la nueva variable (dividiendo male y famele la primera varible)"
   ]
  },
  {
   "cell_type": "code",
   "execution_count": 13,
   "id": "a1ba85fb-319e-4431-9da3-756cc28c356e",
   "metadata": {},
   "outputs": [
    {
     "data": {
      "text/html": [
       "<div>\n",
       "<style scoped>\n",
       "    .dataframe tbody tr th:only-of-type {\n",
       "        vertical-align: middle;\n",
       "    }\n",
       "\n",
       "    .dataframe tbody tr th {\n",
       "        vertical-align: top;\n",
       "    }\n",
       "\n",
       "    .dataframe thead th {\n",
       "        text-align: right;\n",
       "    }\n",
       "</style>\n",
       "<table border=\"1\" class=\"dataframe\">\n",
       "  <thead>\n",
       "    <tr style=\"text-align: right;\">\n",
       "      <th>sex</th>\n",
       "      <th>female</th>\n",
       "      <th>male</th>\n",
       "    </tr>\n",
       "    <tr>\n",
       "      <th>target</th>\n",
       "      <th></th>\n",
       "      <th></th>\n",
       "    </tr>\n",
       "  </thead>\n",
       "  <tbody>\n",
       "    <tr>\n",
       "      <th>bad</th>\n",
       "      <td>0.351613</td>\n",
       "      <td>0.276812</td>\n",
       "    </tr>\n",
       "    <tr>\n",
       "      <th>good</th>\n",
       "      <td>0.648387</td>\n",
       "      <td>0.723188</td>\n",
       "    </tr>\n",
       "  </tbody>\n",
       "</table>\n",
       "</div>"
      ],
      "text/plain": [
       "sex       female      male\n",
       "target                    \n",
       "bad     0.351613  0.276812\n",
       "good    0.648387  0.723188"
      ]
     },
     "execution_count": 13,
     "metadata": {},
     "output_type": "execute_result"
    }
   ],
   "source": [
    "var = ['personal_status', 'target']\n",
    "df = datos.loc[:, var]\n",
    "df['sex'] = df['personal_status'].str.split(\" \", n = 1, expand = True)[0]  #se separa por espacio\n",
    "df['sex'] = df['sex'].str.replace(\"'\",'')  #mejora de formato \n",
    "\n",
    "# Matriz de resultados\n",
    "pd.crosstab(df['target'], df['sex']).apply(lambda p: p/p.sum(), axis=0) #tabla cruzada (en porcentaje)"
   ]
  },
  {
   "cell_type": "markdown",
   "id": "7a10c301-f3fe-4f9b-bb04-8d6b222521c6",
   "metadata": {},
   "source": [
    "Según los resultados, parece que las mujeres tienen una mayor propensión al impago que los hombres. \n",
    "\n",
    "Analicemos el número de préstamos que solicitan hombres y mujeres."
   ]
  },
  {
   "cell_type": "code",
   "execution_count": 14,
   "id": "af25960b-b4ac-435d-b84f-2c98c734c5ea",
   "metadata": {},
   "outputs": [
    {
     "data": {
      "text/html": [
       "<div>\n",
       "<style scoped>\n",
       "    .dataframe tbody tr th:only-of-type {\n",
       "        vertical-align: middle;\n",
       "    }\n",
       "\n",
       "    .dataframe tbody tr th {\n",
       "        vertical-align: top;\n",
       "    }\n",
       "\n",
       "    .dataframe thead th {\n",
       "        text-align: right;\n",
       "    }\n",
       "</style>\n",
       "<table border=\"1\" class=\"dataframe\">\n",
       "  <thead>\n",
       "    <tr style=\"text-align: right;\">\n",
       "      <th></th>\n",
       "      <th>target</th>\n",
       "    </tr>\n",
       "    <tr>\n",
       "      <th>sex</th>\n",
       "      <th></th>\n",
       "    </tr>\n",
       "  </thead>\n",
       "  <tbody>\n",
       "    <tr>\n",
       "      <th>female</th>\n",
       "      <td>310</td>\n",
       "    </tr>\n",
       "    <tr>\n",
       "      <th>male</th>\n",
       "      <td>690</td>\n",
       "    </tr>\n",
       "  </tbody>\n",
       "</table>\n",
       "</div>"
      ],
      "text/plain": [
       "        target\n",
       "sex           \n",
       "female     310\n",
       "male       690"
      ]
     },
     "execution_count": 14,
     "metadata": {},
     "output_type": "execute_result"
    }
   ],
   "source": [
    "pd.DataFrame(df.groupby(df['sex'])['target'].count())"
   ]
  },
  {
   "cell_type": "markdown",
   "id": "a439e4a9-c42a-4e47-a499-ab0f06c1eb31",
   "metadata": {},
   "source": [
    "Puede verse que más del doble de préstamos solicitados son de hombres lo que podría hacer que la conclusión anterior estuviera sesgada."
   ]
  },
  {
   "cell_type": "markdown",
   "id": "3df40269-8b1c-4c06-b1fd-edbf204d1cd2",
   "metadata": {},
   "source": [
    "## Relación entre variables"
   ]
  },
  {
   "cell_type": "code",
   "execution_count": 15,
   "id": "820e5239-9402-4e28-986e-af017ad8f72a",
   "metadata": {},
   "outputs": [],
   "source": [
    "datos['target']=np.where(datos['target']=='good', 0, 1) # se cambia la codificación por sencillez en el preprocesado"
   ]
  },
  {
   "cell_type": "markdown",
   "id": "ca4d37e5-88a7-44c9-bad5-dfc13dd82164",
   "metadata": {},
   "source": [
    "### Variables numéricas\n",
    "\n",
    "Se obtiene la matriz de correlaciones"
   ]
  },
  {
   "cell_type": "code",
   "execution_count": 16,
   "id": "d20cfe51-dd2f-40fc-acd3-c3f74df6044b",
   "metadata": {},
   "outputs": [
    {
     "data": {
      "image/png": "[encoded data removed]",
      "text/plain": [
       "<Figure size 2000x800 with 2 Axes>"
      ]
     },
     "metadata": {},
     "output_type": "display_data"
    }
   ],
   "source": [
    "# df con variables numericas\n",
    "df=datos.loc[:, lista_num] #vdf con variables numericas\n",
    "\n",
    "# Tabla de correlaciones entre variables numéricas\n",
    "matriz_cor=df.corr('pearson')  #correlación de pearson\n",
    "\n",
    "# como cor(x,x)=1 y cor(x,y)=cor(y,x) se puede disponer solo de la diagonal inferior. \n",
    "# La siguiente función elimina la parte superior de la matriz de correlaciones\n",
    "mask = np.zeros(matriz_cor.shape, dtype=bool)\n",
    "mask[np.triu_indices(len(mask))] = True\n",
    "\n",
    "plt.figure(figsize=(20,8)) #tamaño del gráfico\n",
    "matriz=sns.heatmap(matriz_cor, annot = True, vmin = -1, vmax = 1, cmap = 'coolwarm', mask=mask) \n",
    "# cmap para elegir la gama de colores y vmin y vmax identificar todo el espectro de valores de la correlación de pearson [-1,1]\n",
    "matriz.set_title('Matriz de Correlaciones',fontsize=25)\n",
    "plt.show()"
   ]
  },
  {
   "cell_type": "markdown",
   "id": "e35823f3-c76b-4c20-b8df-f36cda865722",
   "metadata": {},
   "source": [
    "### Variables categóricas\n",
    "\n",
    "Se obtiene la V de cramer"
   ]
  },
  {
   "cell_type": "code",
   "execution_count": 17,
   "id": "95241e88-b4d1-4a68-90c5-8059db152f9f",
   "metadata": {},
   "outputs": [
    {
     "name": "stdout",
     "output_type": "stream",
     "text": [
      "target_job: 0.0\n",
      "target_housing: 0.12733448032933792\n",
      "target_other_payment_plans: 0.10415394681626368\n",
      "target_personal_status: 0.08129468862215453\n",
      "target_savings_status: 0.17924029522149437\n",
      "target_foreign_worker: 0.06946513621535383\n",
      "target_checking_status: 0.3476189010590424\n",
      "target_other_payment_plans: 0.10415394681626368\n",
      "target_purpose: 0.1561148105809381\n",
      "target_employment: 0.11991106245316734\n",
      "target_other_parties: 0.06817636837744626\n",
      "target_property_magnitude: 0.14400453584964393\n",
      "target_own_telephone: 0.013104557655738317\n",
      "target_foreign_worker: 0.06946513621535383\n"
     ]
    }
   ],
   "source": [
    "def cramers_corrected_stat(confusion_matrix):\n",
    "    \"\"\" calculate Cramers V statistic for categorical-categorical association.\n",
    "        uses correction from Bergsma and Wicher, \n",
    "        Journal of the Korean Statistical Society 42 (2013): 323-328\n",
    "    \"\"\"\n",
    "    chi2 = stats.chi2_contingency(confusion_matrix)[0]\n",
    "    n = confusion_matrix.sum().sum()\n",
    "    phi2 = chi2/n\n",
    "    r,k = confusion_matrix.shape\n",
    "    phi2corr = max(0, phi2 - ((k-1)*(r-1))/(n-1))    \n",
    "    rcorr = r - ((r-1)**2)/(n-1)\n",
    "    kcorr = k - ((k-1)**2)/(n-1)\n",
    "    return np.sqrt(phi2corr / min( (kcorr-1), (rcorr-1)))\n",
    "\n",
    "\n",
    "# Aplicación de la función\n",
    "    \n",
    "print('target_job:', cramers_corrected_stat(pd.crosstab(datos['target'], datos['job'])))\n",
    "print('target_housing:', cramers_corrected_stat(pd.crosstab(datos['target'], datos['housing'])))\n",
    "print('target_other_payment_plans:', cramers_corrected_stat(pd.crosstab(datos['target'], datos['other_payment_plans'])))\n",
    "print('target_personal_status:', cramers_corrected_stat(pd.crosstab(datos['target'], datos['personal_status'])))\n",
    "print('target_savings_status:', cramers_corrected_stat(pd.crosstab(datos['target'], datos['savings_status'])))\n",
    "print('target_foreign_worker:', cramers_corrected_stat(pd.crosstab(datos['target'], datos['foreign_worker'])))\n",
    "print('target_checking_status:', cramers_corrected_stat(pd.crosstab(datos['target'], datos['checking_status'])))\n",
    "print('target_other_payment_plans:', cramers_corrected_stat(pd.crosstab(datos['target'], datos['other_payment_plans'])))\n",
    "print('target_purpose:', cramers_corrected_stat(pd.crosstab(datos['target'], datos['purpose'])))\n",
    "print('target_employment:', cramers_corrected_stat(pd.crosstab(datos['target'], datos['employment'])))\n",
    "print('target_other_parties:', cramers_corrected_stat(pd.crosstab(datos['target'], datos['other_parties'])))\n",
    "print('target_property_magnitude:', cramers_corrected_stat(pd.crosstab(datos['target'], datos['property_magnitude'])))\n",
    "print('target_own_telephone:', cramers_corrected_stat(pd.crosstab(datos['target'], datos['own_telephone'])))\n",
    "print('target_foreign_worker:', cramers_corrected_stat(pd.crosstab(datos['target'], datos['foreign_worker'])))"
   ]
  },
  {
   "cell_type": "markdown",
   "id": "0ceb11d9-7b85-49d3-9b9e-21dcc72188c8",
   "metadata": {},
   "source": [
    "Además se realiza una agrupación de atributos de las variables categóricas que se incluyen en el modelo (para que sean significativas)"
   ]
  },
  {
   "cell_type": "code",
   "execution_count": 18,
   "id": "35350d89-7dc4-4b6c-8ae2-7d3e7d017073",
   "metadata": {},
   "outputs": [],
   "source": [
    "# purpose\n",
    "datos['purpose'] = np.where(datos['purpose']==\"'new car'\", \"'new car'\", 'other')\n",
    "# savings_status\n",
    "datos['savings_status'] = np.where(datos['savings_status']=='<100', '<100', 'unknown/other')\n",
    "# other_parties\n",
    "datos['other_parties'] = np.where(datos['other_parties'] == 'guarantor', 'guarantor', 'co applicant/none')\n",
    "# credit_history\n",
    "g = [\"'critical/other existing credit'\", \"'delayed previously'\"]\n",
    "datos['credit_history'] = np.where(~datos['credit_history'].isin(g), 'other', datos['credit_history'])\n",
    "# employment\n",
    "g = ['4<=X<7', 'unemployed']\n",
    "datos['employment'] = np.where(~datos['employment'].isin(g), 'other', datos['employment'])\n",
    "# property_magnitude\n",
    "g = [\"'no known property'\", \"'real_estate'\"]\n",
    "datos['property_magnitude'] = np.where(~datos['property_magnitude'].isin(g), 'car/life_insurance', \n",
    "                                   datos['property_magnitude'])\n",
    "# housing\n",
    "g = [\"'for free'\", 'own']\n",
    "datos['housing'] = np.where(datos['housing'].isin(g), 'other', datos['housing'])\n",
    "# other_payment_plans\n",
    "g = ['none', 'stores']\n",
    "datos['other_payment_plans'] = np.where(datos['other_payment_plans'].isin(g), 'other', datos['other_payment_plans'])"
   ]
  },
  {
   "cell_type": "markdown",
   "id": "69bdb8b8-0f39-4047-bf5a-7e73a1860af9",
   "metadata": {},
   "source": [
    "# Modelización (regresión logística)"
   ]
  },
  {
   "cell_type": "code",
   "execution_count": 19,
   "id": "a9942511-8495-43fa-af61-cf1852380eb1",
   "metadata": {},
   "outputs": [
    {
     "ename": "NameError",
     "evalue": "name 'target' is not defined",
     "output_type": "error",
     "traceback": [
      "\u001b[1;31m---------------------------------------------------------------------------\u001b[0m",
      "\u001b[1;31mNameError\u001b[0m                                 Traceback (most recent call last)",
      "Cell \u001b[1;32mIn[19], line 10\u001b[0m\n\u001b[0;32m      6\u001b[0m X_d \u001b[38;5;241m=\u001b[39m sm\u001b[38;5;241m.\u001b[39madd_constant(X_d)\n\u001b[0;32m      8\u001b[0m y \u001b[38;5;241m=\u001b[39m datos[[\u001b[38;5;124m\"\u001b[39m\u001b[38;5;124mtarget\u001b[39m\u001b[38;5;124m\"\u001b[39m]]\n\u001b[1;32m---> 10\u001b[0m logit_matrix \u001b[38;5;241m=\u001b[39m sm\u001b[38;5;241m.\u001b[39mGLM(\u001b[43mtarget\u001b[49m, X_d, family\u001b[38;5;241m=\u001b[39msm\u001b[38;5;241m.\u001b[39mfamilies\u001b[38;5;241m.\u001b[39mBinomial())\u001b[38;5;241m.\u001b[39mfit()\n",
      "\u001b[1;31mNameError\u001b[0m: name 'target' is not defined"
     ]
    }
   ],
   "source": [
    "# Matriz de datos sin la variable dependiente\n",
    "X = datos.drop(columns=[\"target\"])\n",
    "# A todas las variables las convertimos en variables dummy: toman valores 0 o 1\n",
    "X_d = pd.get_dummies(X, drop_first=True, dtype=\"int\") # importante el argumento \"dtypes\" porque la última versión de pandas lo tiene, por defecto, como bool\n",
    "# Añdimos una columnas de unos para la estimación del intercepto\n",
    "X_d = sm.add_constant(X_d)\n",
    "\n",
    "y = datos[[\"target\"]]\n",
    "\n",
    "logit_matrix = sm.GLM(target, X_d, family=sm.families.Binomial()).fit()"
   ]
  },
  {
   "cell_type": "code",
   "execution_count": null,
   "id": "ccfd8da6-51f0-4dd9-83af-afadedb7d6a9",
   "metadata": {},
   "outputs": [],
   "source": [
    "logit_matrix.summary()"
   ]
  },
  {
   "cell_type": "markdown",
   "id": "0a3ccb2e-1668-4105-a2ce-be9239626fe2",
   "metadata": {},
   "source": [
    "## Predicción del modelo y bondad de ajuste\n",
    "\n",
    "En este caso se utiliza la matriz de confusión"
   ]
  },
  {
   "cell_type": "code",
   "execution_count": null,
   "id": "1e6dccf6-de12-4816-a6fe-ab189cd8feae",
   "metadata": {},
   "outputs": [],
   "source": [
    "pred = pd.DataFrame(logit_matrix.predict(X_d), columns=['prediccion'])  #predicción con los datos utilizados para crear el modelo\n",
    "df = pd.concat([target, pred], axis=1) #data.frame respuesta y predicción\n",
    "\n",
    "# Matriz de confusión\n",
    "df=pd.concat([target, pred], axis=1) #data.frame respuesta y predicción\n",
    "df['prediccion']=np.where(df['prediccion'] > 0.5, 1, 0)\n",
    "\n",
    "# Matriz_confusion_prob=pd.crosstab(df['target'], df['prediccion']).apply(lambda p: p/p.sum(), axis=0)\n",
    "matriz_confusion_prob = pd.crosstab(df['target'], df['prediccion']).apply(lambda p: p/p.sum(), axis=1)\n",
    "\n",
    "sns.heatmap(matriz_confusion_prob, annot = True, cmap = \"coolwarm\", fmt=\".3\")\n",
    "plt.title('Matriz de Confusión')\n",
    "plt.xlabel('Predicción')\n",
    "plt.ylabel('Target')\n",
    "plt.show()"
   ]
  },
  {
   "cell_type": "markdown",
   "id": "ac4c7369-9ffa-4d06-bbfa-ee061d95a995",
   "metadata": {},
   "source": [
    "También podemos analizar otras métricas para evaluar los modelos como la precisión, el recall y el f1-score:"
   ]
  },
  {
   "cell_type": "code",
   "execution_count": null,
   "id": "d75f5c0f-8e6b-49d7-ba6c-062ac7c0b33f",
   "metadata": {},
   "outputs": [],
   "source": [
    "print(classification_report(df['target'], df['prediccion']))"
   ]
  }
 ],
 "metadata": {
  "kernelspec": {
   "display_name": "Python 3 (ipykernel)",
   "language": "python",
   "name": "python3"
  },
  "language_info": {
   "codemirror_mode": {
    "name": "ipython",
    "version": 3
   },
   "file_extension": ".py",
   "mimetype": "text/x-python",
   "name": "python",
   "nbconvert_exporter": "python",
   "pygments_lexer": "ipython3",
   "version": "3.10.13"
  }
 },
 "nbformat": 4,
 "nbformat_minor": 5
}
