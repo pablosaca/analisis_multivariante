{
 "cells": [
  {
   "cell_type": "markdown",
   "id": "1379f9e4-a675-419d-bdcd-4dab548d6b41",
   "metadata": {},
   "source": [
    "# REGRESIÓN LINEAL MÚLTIPLE\n",
    "\n",
    "## Realizado por: Pablo Sánchez Cabrera"
   ]
  },
  {
   "cell_type": "markdown",
   "id": "f5f2f004-367f-4019-884f-429b70d722a4",
   "metadata": {},
   "source": [
    "Se cargan las librerías:"
   ]
  },
  {
   "cell_type": "code",
   "execution_count": 1,
   "id": "1c16a168-abd9-441f-bd0e-e832e301d849",
   "metadata": {},
   "outputs": [],
   "source": [
    "import numpy as np\n",
    "import pandas as pd\n",
    "import scipy.stats as stats\n",
    "import matplotlib.pyplot as plt\n",
    "import seaborn as sns\n",
    "import statsmodels.api as sm\n",
    "import statsmodels.formula.api as smf  #sintáxis análoga a R\n",
    "import statsmodels.stats.diagnostic as smd"
   ]
  },
  {
   "cell_type": "markdown",
   "id": "73916fb6-a173-4e30-beaa-b638f38c084f",
   "metadata": {},
   "source": [
    "Se cargan los datos de `mtcars`. Estos datos están ya disponibles en la librería **statsmodels**."
   ]
  },
  {
   "cell_type": "code",
   "execution_count": 2,
   "id": "fd51baf5-cb97-40e5-962c-c99398bd0a9a",
   "metadata": {
    "scrolled": true
   },
   "outputs": [
    {
     "data": {
      "text/html": [
       "<div>\n",
       "<style scoped>\n",
       "    .dataframe tbody tr th:only-of-type {\n",
       "        vertical-align: middle;\n",
       "    }\n",
       "\n",
       "    .dataframe tbody tr th {\n",
       "        vertical-align: top;\n",
       "    }\n",
       "\n",
       "    .dataframe thead th {\n",
       "        text-align: right;\n",
       "    }\n",
       "</style>\n",
       "<table border=\"1\" class=\"dataframe\">\n",
       "  <thead>\n",
       "    <tr style=\"text-align: right;\">\n",
       "      <th></th>\n",
       "      <th>mpg</th>\n",
       "      <th>cyl</th>\n",
       "      <th>disp</th>\n",
       "      <th>hp</th>\n",
       "      <th>drat</th>\n",
       "      <th>wt</th>\n",
       "      <th>qsec</th>\n",
       "      <th>vs</th>\n",
       "      <th>am</th>\n",
       "      <th>gear</th>\n",
       "      <th>carb</th>\n",
       "    </tr>\n",
       "  </thead>\n",
       "  <tbody>\n",
       "    <tr>\n",
       "      <th>Mazda RX4</th>\n",
       "      <td>21.0</td>\n",
       "      <td>6</td>\n",
       "      <td>160.0</td>\n",
       "      <td>110</td>\n",
       "      <td>3.90</td>\n",
       "      <td>2.620</td>\n",
       "      <td>16.46</td>\n",
       "      <td>0</td>\n",
       "      <td>1</td>\n",
       "      <td>4</td>\n",
       "      <td>4</td>\n",
       "    </tr>\n",
       "    <tr>\n",
       "      <th>Mazda RX4 Wag</th>\n",
       "      <td>21.0</td>\n",
       "      <td>6</td>\n",
       "      <td>160.0</td>\n",
       "      <td>110</td>\n",
       "      <td>3.90</td>\n",
       "      <td>2.875</td>\n",
       "      <td>17.02</td>\n",
       "      <td>0</td>\n",
       "      <td>1</td>\n",
       "      <td>4</td>\n",
       "      <td>4</td>\n",
       "    </tr>\n",
       "    <tr>\n",
       "      <th>Datsun 710</th>\n",
       "      <td>22.8</td>\n",
       "      <td>4</td>\n",
       "      <td>108.0</td>\n",
       "      <td>93</td>\n",
       "      <td>3.85</td>\n",
       "      <td>2.320</td>\n",
       "      <td>18.61</td>\n",
       "      <td>1</td>\n",
       "      <td>1</td>\n",
       "      <td>4</td>\n",
       "      <td>1</td>\n",
       "    </tr>\n",
       "    <tr>\n",
       "      <th>Hornet 4 Drive</th>\n",
       "      <td>21.4</td>\n",
       "      <td>6</td>\n",
       "      <td>258.0</td>\n",
       "      <td>110</td>\n",
       "      <td>3.08</td>\n",
       "      <td>3.215</td>\n",
       "      <td>19.44</td>\n",
       "      <td>1</td>\n",
       "      <td>0</td>\n",
       "      <td>3</td>\n",
       "      <td>1</td>\n",
       "    </tr>\n",
       "    <tr>\n",
       "      <th>Hornet Sportabout</th>\n",
       "      <td>18.7</td>\n",
       "      <td>8</td>\n",
       "      <td>360.0</td>\n",
       "      <td>175</td>\n",
       "      <td>3.15</td>\n",
       "      <td>3.440</td>\n",
       "      <td>17.02</td>\n",
       "      <td>0</td>\n",
       "      <td>0</td>\n",
       "      <td>3</td>\n",
       "      <td>2</td>\n",
       "    </tr>\n",
       "    <tr>\n",
       "      <th>Valiant</th>\n",
       "      <td>18.1</td>\n",
       "      <td>6</td>\n",
       "      <td>225.0</td>\n",
       "      <td>105</td>\n",
       "      <td>2.76</td>\n",
       "      <td>3.460</td>\n",
       "      <td>20.22</td>\n",
       "      <td>1</td>\n",
       "      <td>0</td>\n",
       "      <td>3</td>\n",
       "      <td>1</td>\n",
       "    </tr>\n",
       "    <tr>\n",
       "      <th>Duster 360</th>\n",
       "      <td>14.3</td>\n",
       "      <td>8</td>\n",
       "      <td>360.0</td>\n",
       "      <td>245</td>\n",
       "      <td>3.21</td>\n",
       "      <td>3.570</td>\n",
       "      <td>15.84</td>\n",
       "      <td>0</td>\n",
       "      <td>0</td>\n",
       "      <td>3</td>\n",
       "      <td>4</td>\n",
       "    </tr>\n",
       "    <tr>\n",
       "      <th>Merc 240D</th>\n",
       "      <td>24.4</td>\n",
       "      <td>4</td>\n",
       "      <td>146.7</td>\n",
       "      <td>62</td>\n",
       "      <td>3.69</td>\n",
       "      <td>3.190</td>\n",
       "      <td>20.00</td>\n",
       "      <td>1</td>\n",
       "      <td>0</td>\n",
       "      <td>4</td>\n",
       "      <td>2</td>\n",
       "    </tr>\n",
       "    <tr>\n",
       "      <th>Merc 230</th>\n",
       "      <td>22.8</td>\n",
       "      <td>4</td>\n",
       "      <td>140.8</td>\n",
       "      <td>95</td>\n",
       "      <td>3.92</td>\n",
       "      <td>3.150</td>\n",
       "      <td>22.90</td>\n",
       "      <td>1</td>\n",
       "      <td>0</td>\n",
       "      <td>4</td>\n",
       "      <td>2</td>\n",
       "    </tr>\n",
       "    <tr>\n",
       "      <th>Merc 280</th>\n",
       "      <td>19.2</td>\n",
       "      <td>6</td>\n",
       "      <td>167.6</td>\n",
       "      <td>123</td>\n",
       "      <td>3.92</td>\n",
       "      <td>3.440</td>\n",
       "      <td>18.30</td>\n",
       "      <td>1</td>\n",
       "      <td>0</td>\n",
       "      <td>4</td>\n",
       "      <td>4</td>\n",
       "    </tr>\n",
       "  </tbody>\n",
       "</table>\n",
       "</div>"
      ],
      "text/plain": [
       "                    mpg  cyl   disp   hp  drat     wt   qsec  vs  am  gear  \\\n",
       "Mazda RX4          21.0    6  160.0  110  3.90  2.620  16.46   0   1     4   \n",
       "Mazda RX4 Wag      21.0    6  160.0  110  3.90  2.875  17.02   0   1     4   \n",
       "Datsun 710         22.8    4  108.0   93  3.85  2.320  18.61   1   1     4   \n",
       "Hornet 4 Drive     21.4    6  258.0  110  3.08  3.215  19.44   1   0     3   \n",
       "Hornet Sportabout  18.7    8  360.0  175  3.15  3.440  17.02   0   0     3   \n",
       "Valiant            18.1    6  225.0  105  2.76  3.460  20.22   1   0     3   \n",
       "Duster 360         14.3    8  360.0  245  3.21  3.570  15.84   0   0     3   \n",
       "Merc 240D          24.4    4  146.7   62  3.69  3.190  20.00   1   0     4   \n",
       "Merc 230           22.8    4  140.8   95  3.92  3.150  22.90   1   0     4   \n",
       "Merc 280           19.2    6  167.6  123  3.92  3.440  18.30   1   0     4   \n",
       "\n",
       "                   carb  \n",
       "Mazda RX4             4  \n",
       "Mazda RX4 Wag         4  \n",
       "Datsun 710            1  \n",
       "Hornet 4 Drive        1  \n",
       "Hornet Sportabout     2  \n",
       "Valiant               1  \n",
       "Duster 360            4  \n",
       "Merc 240D             2  \n",
       "Merc 230              2  \n",
       "Merc 280              4  "
      ]
     },
     "execution_count": 2,
     "metadata": {},
     "output_type": "execute_result"
    }
   ],
   "source": [
    "mtcars = sm.datasets.get_rdataset(\"mtcars\", \"datasets\", cache=True).data\n",
    "mtcars.head(10)"
   ]
  },
  {
   "cell_type": "markdown",
   "id": "aa210f1e-62f1-48b0-a8c1-a2694274f1a9",
   "metadata": {},
   "source": [
    "## Regresión Lineal Múltiple con 2 variables explicativas"
   ]
  },
  {
   "cell_type": "markdown",
   "id": "460a8be0-a6b8-4345-be4b-25239630746e",
   "metadata": {},
   "source": [
    "Se plantea realiza un modelo de regresión con dos variables exógenas `wt` y `hp` "
   ]
  },
  {
   "cell_type": "code",
   "execution_count": 3,
   "id": "ea5ec46d-15de-4806-b736-f7e10dff3a00",
   "metadata": {},
   "outputs": [
    {
     "data": {
      "text/html": [
       "<table class=\"simpletable\">\n",
       "<caption>OLS Regression Results</caption>\n",
       "<tr>\n",
       "  <th>Dep. Variable:</th>           <td>mpg</td>       <th>  R-squared:         </th> <td>   0.827</td>\n",
       "</tr>\n",
       "<tr>\n",
       "  <th>Model:</th>                   <td>OLS</td>       <th>  Adj. R-squared:    </th> <td>   0.815</td>\n",
       "</tr>\n",
       "<tr>\n",
       "  <th>Method:</th>             <td>Least Squares</td>  <th>  F-statistic:       </th> <td>   69.21</td>\n",
       "</tr>\n",
       "<tr>\n",
       "  <th>Date:</th>             <td>Wed, 29 Nov 2023</td> <th>  Prob (F-statistic):</th> <td>9.11e-12</td>\n",
       "</tr>\n",
       "<tr>\n",
       "  <th>Time:</th>                 <td>09:26:12</td>     <th>  Log-Likelihood:    </th> <td> -74.326</td>\n",
       "</tr>\n",
       "<tr>\n",
       "  <th>No. Observations:</th>      <td>    32</td>      <th>  AIC:               </th> <td>   154.7</td>\n",
       "</tr>\n",
       "<tr>\n",
       "  <th>Df Residuals:</th>          <td>    29</td>      <th>  BIC:               </th> <td>   159.0</td>\n",
       "</tr>\n",
       "<tr>\n",
       "  <th>Df Model:</th>              <td>     2</td>      <th>                     </th>     <td> </td>   \n",
       "</tr>\n",
       "<tr>\n",
       "  <th>Covariance Type:</th>      <td>nonrobust</td>    <th>                     </th>     <td> </td>   \n",
       "</tr>\n",
       "</table>\n",
       "<table class=\"simpletable\">\n",
       "<tr>\n",
       "      <td></td>         <th>coef</th>     <th>std err</th>      <th>t</th>      <th>P>|t|</th>  <th>[0.025</th>    <th>0.975]</th>  \n",
       "</tr>\n",
       "<tr>\n",
       "  <th>Intercept</th> <td>   37.2273</td> <td>    1.599</td> <td>   23.285</td> <td> 0.000</td> <td>   33.957</td> <td>   40.497</td>\n",
       "</tr>\n",
       "<tr>\n",
       "  <th>wt</th>        <td>   -3.8778</td> <td>    0.633</td> <td>   -6.129</td> <td> 0.000</td> <td>   -5.172</td> <td>   -2.584</td>\n",
       "</tr>\n",
       "<tr>\n",
       "  <th>hp</th>        <td>   -0.0318</td> <td>    0.009</td> <td>   -3.519</td> <td> 0.001</td> <td>   -0.050</td> <td>   -0.013</td>\n",
       "</tr>\n",
       "</table>\n",
       "<table class=\"simpletable\">\n",
       "<tr>\n",
       "  <th>Omnibus:</th>       <td> 5.303</td> <th>  Durbin-Watson:     </th> <td>   1.362</td>\n",
       "</tr>\n",
       "<tr>\n",
       "  <th>Prob(Omnibus):</th> <td> 0.071</td> <th>  Jarque-Bera (JB):  </th> <td>   4.046</td>\n",
       "</tr>\n",
       "<tr>\n",
       "  <th>Skew:</th>          <td> 0.855</td> <th>  Prob(JB):          </th> <td>   0.132</td>\n",
       "</tr>\n",
       "<tr>\n",
       "  <th>Kurtosis:</th>      <td> 3.332</td> <th>  Cond. No.          </th> <td>    588.</td>\n",
       "</tr>\n",
       "</table><br/><br/>Notes:<br/>[1] Standard Errors assume that the covariance matrix of the errors is correctly specified."
      ],
      "text/latex": [
       "\\begin{center}\n",
       "\\begin{tabular}{lclc}\n",
       "\\toprule\n",
       "\\textbf{Dep. Variable:}    &       mpg        & \\textbf{  R-squared:         } &     0.827   \\\\\n",
       "\\textbf{Model:}            &       OLS        & \\textbf{  Adj. R-squared:    } &     0.815   \\\\\n",
       "\\textbf{Method:}           &  Least Squares   & \\textbf{  F-statistic:       } &     69.21   \\\\\n",
       "\\textbf{Date:}             & Wed, 29 Nov 2023 & \\textbf{  Prob (F-statistic):} &  9.11e-12   \\\\\n",
       "\\textbf{Time:}             &     09:26:12     & \\textbf{  Log-Likelihood:    } &   -74.326   \\\\\n",
       "\\textbf{No. Observations:} &          32      & \\textbf{  AIC:               } &     154.7   \\\\\n",
       "\\textbf{Df Residuals:}     &          29      & \\textbf{  BIC:               } &     159.0   \\\\\n",
       "\\textbf{Df Model:}         &           2      & \\textbf{                     } &             \\\\\n",
       "\\textbf{Covariance Type:}  &    nonrobust     & \\textbf{                     } &             \\\\\n",
       "\\bottomrule\n",
       "\\end{tabular}\n",
       "\\begin{tabular}{lcccccc}\n",
       "                   & \\textbf{coef} & \\textbf{std err} & \\textbf{t} & \\textbf{P$> |$t$|$} & \\textbf{[0.025} & \\textbf{0.975]}  \\\\\n",
       "\\midrule\n",
       "\\textbf{Intercept} &      37.2273  &        1.599     &    23.285  &         0.000        &       33.957    &       40.497     \\\\\n",
       "\\textbf{wt}        &      -3.8778  &        0.633     &    -6.129  &         0.000        &       -5.172    &       -2.584     \\\\\n",
       "\\textbf{hp}        &      -0.0318  &        0.009     &    -3.519  &         0.001        &       -0.050    &       -0.013     \\\\\n",
       "\\bottomrule\n",
       "\\end{tabular}\n",
       "\\begin{tabular}{lclc}\n",
       "\\textbf{Omnibus:}       &  5.303 & \\textbf{  Durbin-Watson:     } &    1.362  \\\\\n",
       "\\textbf{Prob(Omnibus):} &  0.071 & \\textbf{  Jarque-Bera (JB):  } &    4.046  \\\\\n",
       "\\textbf{Skew:}          &  0.855 & \\textbf{  Prob(JB):          } &    0.132  \\\\\n",
       "\\textbf{Kurtosis:}      &  3.332 & \\textbf{  Cond. No.          } &     588.  \\\\\n",
       "\\bottomrule\n",
       "\\end{tabular}\n",
       "%\\caption{OLS Regression Results}\n",
       "\\end{center}\n",
       "\n",
       "Notes: \\newline\n",
       " [1] Standard Errors assume that the covariance matrix of the errors is correctly specified."
      ],
      "text/plain": [
       "<class 'statsmodels.iolib.summary.Summary'>\n",
       "\"\"\"\n",
       "                            OLS Regression Results                            \n",
       "==============================================================================\n",
       "Dep. Variable:                    mpg   R-squared:                       0.827\n",
       "Model:                            OLS   Adj. R-squared:                  0.815\n",
       "Method:                 Least Squares   F-statistic:                     69.21\n",
       "Date:                Wed, 29 Nov 2023   Prob (F-statistic):           9.11e-12\n",
       "Time:                        09:26:12   Log-Likelihood:                -74.326\n",
       "No. Observations:                  32   AIC:                             154.7\n",
       "Df Residuals:                      29   BIC:                             159.0\n",
       "Df Model:                           2                                         \n",
       "Covariance Type:            nonrobust                                         \n",
       "==============================================================================\n",
       "                 coef    std err          t      P>|t|      [0.025      0.975]\n",
       "------------------------------------------------------------------------------\n",
       "Intercept     37.2273      1.599     23.285      0.000      33.957      40.497\n",
       "wt            -3.8778      0.633     -6.129      0.000      -5.172      -2.584\n",
       "hp            -0.0318      0.009     -3.519      0.001      -0.050      -0.013\n",
       "==============================================================================\n",
       "Omnibus:                        5.303   Durbin-Watson:                   1.362\n",
       "Prob(Omnibus):                  0.071   Jarque-Bera (JB):                4.046\n",
       "Skew:                           0.855   Prob(JB):                        0.132\n",
       "Kurtosis:                       3.332   Cond. No.                         588.\n",
       "==============================================================================\n",
       "\n",
       "Notes:\n",
       "[1] Standard Errors assume that the covariance matrix of the errors is correctly specified.\n",
       "\"\"\""
      ]
     },
     "execution_count": 3,
     "metadata": {},
     "output_type": "execute_result"
    }
   ],
   "source": [
    "# REGRESIÓN LINEAL MULTIPLE \n",
    "modelo_rgl = smf.ols('mpg ~ wt + hp', data=mtcars).fit()  #ajuste del modelo\n",
    "modelo_rgl.summary()"
   ]
  },
  {
   "cell_type": "markdown",
   "id": "d9a8c673-0639-41f9-87f2-d98a788fbebc",
   "metadata": {},
   "source": [
    "Puede verse que la forma de definir el modelo en **statsmodels** es similar a la de los paquetes de **R**.\n",
    "\n",
    "Dentro del objeto *modelo_rgl* se guardan diferentes atributos como coeficientes, residuos, test estadísticos, métricas de bondad de ajuste, etc. o métodos como predict para hacer predicciones sobre nuevos datos. Se puede acceder a ellos utilizando `dir(modelo_rgl)`.\n",
    "\n",
    "Un par de ejemplos a continuación:\n",
    "\n",
    "- Coeficientes:"
   ]
  },
  {
   "cell_type": "code",
   "execution_count": 5,
   "id": "0f3c270d-0b10-4eef-863a-180537017ae1",
   "metadata": {},
   "outputs": [
    {
     "data": {
      "text/plain": [
       "Intercept    37.227270\n",
       "wt           -3.877831\n",
       "hp           -0.031773\n",
       "dtype: float64"
      ]
     },
     "execution_count": 5,
     "metadata": {},
     "output_type": "execute_result"
    }
   ],
   "source": [
    "modelo_rgl.params"
   ]
  },
  {
   "cell_type": "markdown",
   "id": "54a5b877-5c12-4402-94ad-d500e35745a5",
   "metadata": {},
   "source": [
    "- Bondad de ajuste"
   ]
  },
  {
   "cell_type": "code",
   "execution_count": 6,
   "id": "62ff8324-1015-4b8d-b883-318004885162",
   "metadata": {},
   "outputs": [
    {
     "data": {
      "text/plain": [
       "0.8148396209781563"
      ]
     },
     "execution_count": 6,
     "metadata": {},
     "output_type": "execute_result"
    }
   ],
   "source": [
    "modelo_rgl.rsquared_adj"
   ]
  },
  {
   "cell_type": "markdown",
   "id": "a3d05ee4-b3b1-4c86-8368-5d8be1cfdd02",
   "metadata": {},
   "source": [
    "#### Predicción sobre el modelo creado"
   ]
  },
  {
   "cell_type": "markdown",
   "id": "0cca9afa-d8af-4550-a6df-eca33727ad3e",
   "metadata": {},
   "source": [
    "Una vez se tiene el modelo se pueden realizar predicciones sobre una nueva muestra. Suponiendo que tenemos un registro que toma los valores\n",
    "- wt: 3\n",
    "- hp: 120"
   ]
  },
  {
   "cell_type": "code",
   "execution_count": 7,
   "id": "31a55d68-4d81-4549-baf5-b9f3dbbb24e1",
   "metadata": {},
   "outputs": [
    {
     "data": {
      "text/html": [
       "<div>\n",
       "<style scoped>\n",
       "    .dataframe tbody tr th:only-of-type {\n",
       "        vertical-align: middle;\n",
       "    }\n",
       "\n",
       "    .dataframe tbody tr th {\n",
       "        vertical-align: top;\n",
       "    }\n",
       "\n",
       "    .dataframe thead th {\n",
       "        text-align: right;\n",
       "    }\n",
       "</style>\n",
       "<table border=\"1\" class=\"dataframe\">\n",
       "  <thead>\n",
       "    <tr style=\"text-align: right;\">\n",
       "      <th></th>\n",
       "      <th>mean</th>\n",
       "      <th>mean_se</th>\n",
       "      <th>mean_ci_lower</th>\n",
       "      <th>mean_ci_upper</th>\n",
       "      <th>obs_ci_lower</th>\n",
       "      <th>obs_ci_upper</th>\n",
       "    </tr>\n",
       "  </thead>\n",
       "  <tbody>\n",
       "    <tr>\n",
       "      <th>0</th>\n",
       "      <td>21.781024</td>\n",
       "      <td>0.493463</td>\n",
       "      <td>20.77178</td>\n",
       "      <td>22.790268</td>\n",
       "      <td>16.381738</td>\n",
       "      <td>27.18031</td>\n",
       "    </tr>\n",
       "  </tbody>\n",
       "</table>\n",
       "</div>"
      ],
      "text/plain": [
       "        mean   mean_se  mean_ci_lower  mean_ci_upper  obs_ci_lower  \\\n",
       "0  21.781024  0.493463       20.77178      22.790268     16.381738   \n",
       "\n",
       "   obs_ci_upper  \n",
       "0      27.18031  "
      ]
     },
     "execution_count": 7,
     "metadata": {},
     "output_type": "execute_result"
    }
   ],
   "source": [
    "df = pd.DataFrame({'wt': [3], 'hp': [120]}) #dato a predecir\n",
    "pred = modelo_rgl.get_prediction(df)\n",
    "pred.summary_frame()"
   ]
  },
  {
   "cell_type": "markdown",
   "id": "c0cfa0f3-2332-468d-a923-ea745cffb25a",
   "metadata": {},
   "source": [
    "#### Hipótesis del modelo\n",
    "\n",
    "Para analizar las hipótesis del modelo se analizan los residuos"
   ]
  },
  {
   "cell_type": "code",
   "execution_count": 8,
   "id": "6382c2e5-ed0a-46cd-9614-29c96ec4571d",
   "metadata": {},
   "outputs": [],
   "source": [
    "residuos = modelo_rgl.resid #cálculo de residuos"
   ]
  },
  {
   "cell_type": "markdown",
   "id": "449975e9-3d42-4d32-9a55-55443f97d67d",
   "metadata": {},
   "source": [
    "`Normalidad`"
   ]
  },
  {
   "cell_type": "code",
   "execution_count": 9,
   "id": "fe671067-4793-4dc0-8fdd-244b5745829d",
   "metadata": {},
   "outputs": [
    {
     "data": {
      "image/png": "[encoded data removed]",
      "text/plain": [
       "<Figure size 640x480 with 1 Axes>"
      ]
     },
     "metadata": {},
     "output_type": "display_data"
    }
   ],
   "source": [
    "#a) A partir del gráfico qqplot\n",
    "qqplot = sm.qqplot(residuos, line='q') #qqplot\n",
    "qqplot = plt.title('QQPlot - Normalidad'), plt.xlabel('Cuantiles teóricos'), plt.ylabel('Cuantiles muestrales')\n",
    "plt.show()"
   ]
  },
  {
   "cell_type": "code",
   "execution_count": 10,
   "id": "fc75a155-114c-4075-899e-e34884e5dc0e",
   "metadata": {},
   "outputs": [
    {
     "name": "stdout",
     "output_type": "stream",
     "text": [
      "Test Lilliefors: valor y p-value: (0.11354012318772777, 0.37521740339258275)\n"
     ]
    }
   ],
   "source": [
    "#b) Test normalidad -> Lilliefors \n",
    "test_normal = sm.stats.diagnostic.lilliefors(residuos)\n",
    "print('Test Lilliefors: valor y p-value:', test_normal)"
   ]
  },
  {
   "cell_type": "markdown",
   "id": "afc37360-3de9-4975-8677-b3d200967d82",
   "metadata": {},
   "source": [
    "`Residuos homocedasticos`"
   ]
  },
  {
   "cell_type": "code",
   "execution_count": 11,
   "id": "a42c897b-c549-4743-a51e-12330d948d29",
   "metadata": {},
   "outputs": [
    {
     "data": {
      "image/png": "[encoded data removed]",
      "text/plain": [
       "<Figure size 640x480 with 1 Axes>"
      ]
     },
     "metadata": {},
     "output_type": "display_data"
    }
   ],
   "source": [
    "#a) Valores predichos vs residuos \n",
    "plt.plot(modelo_rgl.fittedvalues, residuos, 'bo')\n",
    "plt.title('Homocedasticidad de residuos'), plt.xlabel(\"Valor estimado\"), plt.ylabel(\"Residuos\")\n",
    "plt.show()"
   ]
  },
  {
   "cell_type": "code",
   "execution_count": 12,
   "id": "4459ddb3-6337-4bcf-97c8-e72f798c8337",
   "metadata": {},
   "outputs": [
    {
     "name": "stdout",
     "output_type": "stream",
     "text": [
      "Test Lilliefors: valor y p-value: 0.88072247017843 0.6438038145444651\n"
     ]
    }
   ],
   "source": [
    "#b) Test Homocedasticidad -> Breusch-Pagan\n",
    "test_homocedasticidad = sm.stats.diagnostic.het_breuschpagan(residuos, modelo_rgl.model.exog)\n",
    "print('Test Lilliefors: valor y p-value:', test_homocedasticidad[0], test_homocedasticidad[1])"
   ]
  },
  {
   "cell_type": "markdown",
   "id": "c0ceaa10-f222-4dd6-a09c-6af0dfba0767",
   "metadata": {},
   "source": [
    "#### Residuos incorrelacionados"
   ]
  },
  {
   "cell_type": "code",
   "execution_count": 16,
   "id": "335c2070-6486-4901-a4d3-2742be029f0b",
   "metadata": {},
   "outputs": [
    {
     "data": {
      "image/png": "[encoded data removed]",
      "text/plain": [
       "<Figure size 640x480 with 2 Axes>"
      ]
     },
     "metadata": {},
     "output_type": "display_data"
    }
   ],
   "source": [
    "#a) Gráfico de autocorrelación\n",
    "fig, ax1=plt.subplots()\n",
    "ax1 = plt.axes(frameon=True)\n",
    "ax1.axes.get_xaxis().set_visible(False) #para no mostrar ejeX\n",
    "plt.plot(residuos, 'bo'), plt.title('Autocorrelación de los residuos')\n",
    "plt.show()"
   ]
  },
  {
   "cell_type": "code",
   "execution_count": 20,
   "id": "9e327042-e22d-4b60-b70d-eb5caf27551b",
   "metadata": {},
   "outputs": [
    {
     "data": {
      "text/html": [
       "<div>\n",
       "<style scoped>\n",
       "    .dataframe tbody tr th:only-of-type {\n",
       "        vertical-align: middle;\n",
       "    }\n",
       "\n",
       "    .dataframe tbody tr th {\n",
       "        vertical-align: top;\n",
       "    }\n",
       "\n",
       "    .dataframe thead th {\n",
       "        text-align: right;\n",
       "    }\n",
       "</style>\n",
       "<table border=\"1\" class=\"dataframe\">\n",
       "  <thead>\n",
       "    <tr style=\"text-align: right;\">\n",
       "      <th></th>\n",
       "      <th>lb_stat</th>\n",
       "      <th>lb_pvalue</th>\n",
       "    </tr>\n",
       "  </thead>\n",
       "  <tbody>\n",
       "    <tr>\n",
       "      <th>1</th>\n",
       "      <td>3.062774</td>\n",
       "      <td>0.080105</td>\n",
       "    </tr>\n",
       "  </tbody>\n",
       "</table>\n",
       "</div>"
      ],
      "text/plain": [
       "    lb_stat  lb_pvalue\n",
       "1  3.062774   0.080105"
      ]
     },
     "execution_count": 20,
     "metadata": {},
     "output_type": "execute_result"
    }
   ],
   "source": [
    "#b) Test autocorrelación -> Ljung-Box\n",
    "test_autocorrelacion = smd.acorr_ljungbox(residuos, lags=1)\n",
    "test_autocorrelacion"
   ]
  },
  {
   "cell_type": "markdown",
   "id": "93726450-cddc-44e7-9656-b84c031b9f25",
   "metadata": {},
   "source": [
    "A la vista de los resultados, el modelo cumple las hipótesis de un modelo de regresión lineal múltiple"
   ]
  }
 ],
 "metadata": {
  "kernelspec": {
   "display_name": "Python 3 (ipykernel)",
   "language": "python",
   "name": "python3"
  },
  "language_info": {
   "codemirror_mode": {
    "name": "ipython",
    "version": 3
   },
   "file_extension": ".py",
   "mimetype": "text/x-python",
   "name": "python",
   "nbconvert_exporter": "python",
   "pygments_lexer": "ipython3",
   "version": "3.10.13"
  }
 },
 "nbformat": 4,
 "nbformat_minor": 5
}
